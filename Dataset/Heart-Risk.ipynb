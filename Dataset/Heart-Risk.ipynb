{
 "cells": [
  {
   "cell_type": "markdown",
   "id": "f09124b5",
   "metadata": {},
   "source": [
    "## Goal of Collecting this Dataset\n",
    "\n",
    "our goal is to predict 10-year ASCVD risk in adults using key features such as age, gender, race, smoking status, diabetes, hypertension, and cholesterol levels. The dataset aims to facilitate accurate risk assessments and guide targeted preventive healthcare interventions.\n",
    "\n",
    "## Source of the Dataset \n",
    "\n",
    "https://www.kaggle.com/datasets/mokar2001/ascvd-heart-risk\n",
    "\n",
    "## General Information \n",
    "\n",
    "   ### - number of attributes : 10\n",
    "   ### - number of objects : 1000 \n",
    "   ### - class name :  \n",
    "  ###### 10-year risk for ASCVD is categorized as  \n",
    " Low-risk (<5%)  \n",
    " Borderline risk (5% to 7.4%)  \n",
    " Intermediate risk (7.5% to 19.9%)  \n",
    " High risk (≥20%)  \n",
    "\n",
    "\n",
    "   ### - type of attributes : \n",
    "| Attribute Name  | Descriptions             | Data Type          | Possible Values                    |\n",
    "| --------------- | ------------------------ | ------------------ | ---------------------------------- |\n",
    "| isMale          | Gender                   | Binary             | 0 (Female), 1 (Male)               |\n",
    "| isBlack         | Race                     | Binary             | 0 (Not Black), 1 (Black)           |\n",
    "| isSmoker        | Smoking Status           | Binary             | 0 (Non-smoker), 1 (Smoker)         |\n",
    "| isDiabetic      | Diabetes Status          | Binary             | 0 (Normal), 1 (Diabetic)           |\n",
    "| isHypertensive  | Hypertension Status      | Binary             | 0 (Normal BP), 1 (High BP)         |\n",
    "| Age             | Age of the candidate     | Numeric (Integer)  | Range between 40-79                |\n",
    "| Systolic        | Max Blood Pressure       | Numeric (Integer)  | Range between 90-200               |\n",
    "| Cholesterol     | Total Cholesterol        | Numeric (Integer)  | Range between  130-200             |\n",
    "| HDL             | HDL Cholesterol          | Numeric (Integer)  | Range between  20-100              |\n",
    "| Risk            | 10-year ASCVD Risk       | Numeric (Decimal)  |       Low, Borderline, Intermediate, High risk|\n",
    "  \n",
    "\n"
   ]
  },
  {
   "cell_type": "code",
   "execution_count": null,
   "id": "a32b2be1",
   "metadata": {},
   "outputs": [],
   "source": []
  }
 ],
 "metadata": {
  "kernelspec": {
   "display_name": "R",
   "language": "R",
   "name": "ir"
  }
 },
 "nbformat": 4,
 "nbformat_minor": 5
}
