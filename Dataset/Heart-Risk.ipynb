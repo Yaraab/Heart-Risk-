{
 "cells": [
  {
   "cell_type": "markdown",
   "id": "9d3e7d9c",
   "metadata": {},
   "source": [
    "## Goal of Collecting this Dataset\n",
    "\n",
    "our goal is to predict 10-year ASCVD risk in adults using key features such as age, gender, race, smoking status, diabetes, hypertension, and cholesterol levels. The dataset aims to facilitate accurate risk assessments and guide targeted preventive healthcare interventions.\n",
    "\n",
    "## Source of the Dataset \n",
    "\n",
    "https://www.kaggle.com/datasets/mokar2001/ascvd-heart-risk\n",
    "\n",
    "## General Information \n",
    "\n",
    "   ### - number of attributes : 10\n",
    "   \n",
    "   ### - type of attributes : \n",
    "**isMale:** Binary, representing the gender as either Male (1) or Not Male (0).  \n",
    "**isBlack:** Binary, indicating race as either Black (1) or Not Black (0).  \n",
    "**isSmoker:** Binary, indicating whether the individual is a Smoker (1) or Non-smoker (0).  \n",
    "**isDiabetic:** Binary, indicating whether the individual is Diabetic (1) or Normal (0).  \n",
    "**isHypertensive:** Binary, indicating whether the individual has High Blood Pressure (1) or Normal Blood Pressure (0).  \n",
    "**Age:** Numerical (Integer), representing the age of the individual.  \n",
    "**Systolic:** Numerical (Integer), representing the maximum blood pressure during one heartbeat.  \n",
    "**Cholesterol:** Numerical (Integer), representing the total cholesterol level.  \n",
    "**HDL:** Numerical (Integer), representing the level of high-density lipoprotein (HDL) cholesterol.  \n",
    "**Risk:**(Decimal) Categorical, the class label representing the estimated 10-year ASCVD risk as \"Low Risk,\" \"Moderate Risk,\" or \"High Risk.\"  \n",
    "\n",
    "  ### - number of objects : 1000\n",
    "  \n",
    "  ### - class name :  \n",
    "  ###### 10-year risk for ASCVD is categorized as  \n",
    " Low-risk (<5%)  \n",
    " Borderline risk (5% to 7.4%)  \n",
    " Intermediate risk (7.5% to 19.9%)  \n",
    " High risk (≥20%)  \n",
    "\n",
    "\n"
   ]
  },
  {
   "cell_type": "code",
   "execution_count": null,
   "id": "30f3a79b",
   "metadata": {},
   "outputs": [],
   "source": []
  }
 ],
 "metadata": {
  "kernelspec": {
   "display_name": "R",
   "language": "R",
   "name": "ir"
  }
 },
 "nbformat": 4,
 "nbformat_minor": 5
}
