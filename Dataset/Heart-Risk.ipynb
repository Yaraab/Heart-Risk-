{
 "cells": [
  {
   "cell_type": "markdown",
   "id": "aeb8c9a1",
   "metadata": {},
   "source": [
    "#  Why this dataset?  Atherosclerotic cardiovascular disease (ASCVD) remains one of the leading causes of death and morbidity worldwide. Its rate has been increasing and it’s affecting the majority of adults. In order to effectively combat this global health issue we will study and analyze the data; to have a better understanding of ASCVD relevant data, enabling us to have an accurate risk assessment, optimize treatment strategies, and provide early detection and estimation of potential risk."
   ]
  },
  {
   "cell_type": "markdown",
   "id": "8016a5e8",
   "metadata": {},
   "source": []
  },
  {
   "cell_type": "code",
   "execution_count": null,
   "id": "7bfbcf6c",
   "metadata": {},
   "outputs": [],
   "source": []
  }
 ],
 "metadata": {
  "kernelspec": {
   "display_name": "R",
   "language": "R",
   "name": "ir"
  }
 },
 "nbformat": 4,
 "nbformat_minor": 5
}
